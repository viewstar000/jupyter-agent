{
 "cells": [
  {
   "cell_type": "code",
   "execution_count": null,
   "id": "a02859eb",
   "metadata": {
    "tags": [
     "CTX_EXCLUDE"
    ]
   },
   "outputs": [],
   "source": [
    "\"\"\"\n",
    "Copyright (c) 2025 viewstar000\n",
    "\n",
    "This software is released under the MIT License.\n",
    "https://opensource.org/licenses/MIT\n",
    "\"\"\"\n",
    "\n",
    "%load_ext jupyter_agent.bot_magics\n",
    "%config BotMagics.default_api_url = 'http://127.0.0.1:1234/v1'\n",
    "%config BotMagics.default_api_key = 'API_KEY'\n",
    "%config BotMagics.default_model_name = 'qwen3-30b-a3b' \n",
    "%config BotMagics.coding_model_name = 'devstral-small-2505-mlx'\n",
    "%config BotMagics.support_save_meta = True  # Need jupyter-agent-extension installed\n",
    "%config BotMagics.support_set_cell_content = True # Need jupyter-agent-extension installed\n",
    "\n",
    "# 默认情况下，code类型的单元格会加入代码生成上下中，markdown类型的的单元格会加入到任务规划上下中。\n",
    "# 添加\"CTX_CODE\"标记到cell的tags中，表示当前单元会加入到代码生成上下文中。\n",
    "# 添加\"CTX_TASK\"标记到cell的tags中，表示当前单元会加入到任务规划上下文中。\n",
    "# 添加\"CTX_EXCLUDE\"标记到cell的tags中，表示当前单元会排除在LLM会话上下文之外。"
   ]
  },
  {
   "cell_type": "code",
   "execution_count": null,
   "id": "52d16336",
   "metadata": {
    "jupyter-agent-data": {
     "coding_prompt": "",
     "important_infos": null,
     "issue": "",
     "result": "\n# 目标规划说明\n\n## 1. 子任务列表及依赖关系\n\n### 🧩 子任务1：接收数据并分析目录结构\n- **输入**：用户提供的数据存储路径（文件夹/压缩包）\n- **处理逻辑**：\n  - 遍历路径下所有文件，识别文件格式（CSV/JSON/XML等）\n  - 统计各类型文件数量及占比\n  - 推断路径pattern（如时间分区、ID分片等）\n- **输出**：目录结构描述文本 + 文件类型统计表\n\n### 🧩 子任务2：原始数据Schema推断\n- **输入**：子任务1的输出结果 + 部分样本文件\n- **处理逻辑**：\n  - 按文件格式加载所有样本文件（保留原始字段名）\n  - 收集各字段的数据类型、唯一值数量等元信息\n  - 合并多文件字段列表，生成统一Schema描述\n- **输出**：字段列表汇总表 + 字段类型分布统计\n\n### 🧩 子任务3：数据预览与统计分析\n- **输入**：子任务2的Schema结果 + 全量数据集\n- **处理逻辑**：\n  - 合并所有文件为统一DataFrame（内存允许时）\n  - 对数值型字段计算统计描述（均值/方差等）\n  - 对分类字段统计Top100出现频率\n  - 生成样本数据预览（前5行）\n- **输出**：统计描述表 + 样本数据预览\n\n### 🧩 子任务4：清洗规则建议生成\n- **输入**：目标Schema（需用户额外提供） + 子任务3的分析结果\n- **处理逻辑**：\n  - 比较实际字段与目标Schema差异（字段名/类型/约束）\n  - 标记缺失值、异常值、格式错误等质量缺陷\n  - 推荐字段映射规则（含同义词映射/量纲转换等）\n- **输出**：问题清单 + 清洗策略建议列表\n\n### 🧩 子任务5：数据加载器开发\n- **输入**：子任务4的清洗规则 + 用户确认后的Schema\n- **处理逻辑**：\n  - 封装文件读取函数（支持多格式自动识别）\n  - 实现字段映射/类型转换/缺失值处理等清洗逻辑\n  - 添加数据验证步骤确保符合目标Schema\n- **输出**：可复用的DataLoader类代码 + 清洗结果预览\n\n---\n\n## 2. 执行流程图示（文字版）\n\n```\n[接收数据] \n   ↓\n[目录结构分析] → [Schema推断] → [数据预览]\n         ↓                              ↓\n    [清洗规则生成] ← [目标Schema输入] \n                         ↓\n                   [数据加载器开发]\n```\n\n---\n\n## 3. 预期最终输出形式\n\n| 输出类型     | 内容描述                                                                 |\n|--------------|--------------------------------------------------------------------------|\n| 文本报告     | 目录结构分析、字段分布统计、清洗建议清单                                 |\n| 结构化数据   | 样本数据预览（DataFrame格式）<br>统计描述表（数值型/分类型分开展示）    |\n| 代码模块     | DataLoader类定义（含字段映射规则/清洗函数/验证逻辑）                     |\n\n---\n\n## 4. 关键注意事项\n\n1. **数据隔离**：所有操作基于原始数据副本，确保源文件安全\n2. **扩展性设计**：加载器需支持新增文件格式的灵活扩展\n3. **可追溯性**：清洗规则应保留原始字段映射关系记录\n4. **性能考量**：大数据集处理建议分批次加载（可通过参数控制）\n\n需要用户补充提供：\n- 目标Schema定义（可选CSV/JSON格式）\n- 特殊处理需求说明（如敏感数据脱敏规则等）",
     "subject": "",
     "summary_prompt": "",
     "task_id": "",
     "verify_prompt": ""
    },
    "jupyter-agent-data-store": true,
    "jupyter-agent-data-timestamp": 1750774771481
   },
   "outputs": [],
   "source": [
    "%%bot -P # 定义全局目标并执行全局规则\n",
    "\n",
    "# 全局目标\n",
    "\n",
    "你是一个专业的数据清洗助手。你的主要任务是帮助用户分析原始数据，识别数据质量问题，并最终生成可复用的 Python 数据清洗脚本与数据加载函数或类。你具备以下能力：\n",
    "\n",
    "### 🎯 核心功能与步骤\n",
    "\n",
    "- 接收数据：接收用户提供的数据存储路径，通常是一个文件夹或压缩文件包\n",
    "- 分析目录结构：分析路径下的文件目录结构、文件格式等，输出文件目录结构描述、文件类型统计，通过推理分析总结出路径pattern等\n",
    "- 原始数据schema推断：逐一加载所有的样本文件，输出其字段列表，合并字段列表并推断出原始数据的schema\n",
    "- 预览数据：加载并预览数据，输出样本数据、字段信息、统计描述等\n",
    "  - 需要加载并合全部数据后再进行统计\n",
    "  - 对于数值类字段，输出其统计描述，如均值、方差、最大值、最小值、缺失比例等\n",
    "  - 对于枚举类字段，统计其所有权举值的数量分布（可以考虑只输出top100)\n",
    "  - 注意：**该步骤不需要对数据Schema进行检查**，只需要输出处理建议供后续步骤参考\n",
    "- 生成清洗规则：结合用户提供的目标数据Schema，检查并输出缺失值、异常值、重复记录、格式错误、Schema不一致等问题列表以及相应的清先策略建议\n",
    "  - 对于字段名不一致的情况，需要跟据数据的内容推断给出合理的映射的规则\n",
    "  - 对于枚举值不一致的情况，需要跟据数据的内容推断给出合理的映射的规则\n",
    "  - 对数值量纲不一致的情况，需要跟据数据的内容推断给出合理的映射的规则\n",
    "  - 该步骤不需要进行实际的清洗操作，只需要输出处理建议供后续步骤参考\n",
    "- 生成数据加载器：结合数据分析与诊断结果及用户提供的目标数据Schema，根据用户选择或默认规则对生成数据清洗与加载器代码\n",
    "   - 将清洗逻辑封装为函数或类，形成“数据加载器”模块\n",
    "   - 运行清洗代码，并对清洗后的结果进行预览确认\n",
    "\n",
    "### ⚙️ 技术栈要求\n",
    "\n",
    "- 使用 Python（Pandas 为主）；\n",
    "- 输出结构化数据（如 DataFrame 预览）；\n",
    "- 所有操作需保证数据完整性，不修改原始数据源；"
   ]
  },
  {
   "cell_type": "code",
   "execution_count": null,
   "id": "ff33cebc",
   "metadata": {
    "tags": [
     "CTX_TASK"
    ]
   },
   "outputs": [],
   "source": [
    "### 数据集的根目录\n",
    "\n",
    "DATASET_ROOT = \"var/sapimouse\""
   ]
  },
  {
   "cell_type": "code",
   "execution_count": null,
   "id": "7f565cd9",
   "metadata": {
    "tags": [
     "CTX_TASK"
    ]
   },
   "outputs": [],
   "source": [
    "### 定义目标数据Schema\n",
    "\n",
    "from typing import TypedDict\n",
    "from enum import Enum\n",
    "\n",
    "\n",
    "class MouseButton(Enum):\n",
    "\n",
    "    LEFT = 1\n",
    "    RIGHT = 2\n",
    "    MIDDLE = 3\n",
    "    WHEEL_UP = 4\n",
    "    WHEEL_DOWN = 5\n",
    "    WHEEL_LEFT = 6\n",
    "    WHEEL_RIGHT = 7\n",
    "    NONE = 0\n",
    "    UNKNOWN = -1\n",
    "\n",
    "\n",
    "class MouseEvent(Enum):\n",
    "\n",
    "    PRESS = 1\n",
    "    RELEASE = 2\n",
    "    MOVE = 3\n",
    "    DRAG = 4\n",
    "    WHEEL = 5\n",
    "    NONE = 0\n",
    "    UNKNOWN = -1\n",
    "\n",
    "\n",
    "class MouseTraceSchema(TypedDict):\n",
    "    source: str  # 数据源标识，尽量简短明确，如 \"sapimouse\"\n",
    "    user_id: str  # 用户唯一标识，可选\n",
    "    session_id: str  # 会话唯一标识，可选\n",
    "    timestamp: float  # 时间戳，单位为秒\n",
    "    button: MouseButton  # 鼠标按键，使用枚举值\n",
    "    event: MouseEvent  # 鼠标事件类型，使用枚举值\n",
    "    x: float  # 鼠标X坐标\n",
    "    y: float  # 鼠标Y坐标"
   ]
  },
  {
   "cell_type": "code",
   "execution_count": null,
   "id": "1f642174",
   "metadata": {},
   "outputs": [],
   "source": [
    "%%bot # 开始规划、生成、执行、调试子任务代码。可重复追加当前命令，直到全局任务完成。\n",
    "\n",
    "# Execute this cell to generate the next task\n",
    "# 2025-07-01T11:53:32.650974，不可省略，但可以用任务随机字符串代替\n",
    "# 特别注意：执行前必须确保当前notebook已保存"
   ]
  }
 ],
 "metadata": {
  "kernelspec": {
   "display_name": ".venv",
   "language": "python",
   "name": "python3"
  },
  "language_info": {
   "codemirror_mode": {
    "name": "ipython",
    "version": 3
   },
   "file_extension": ".py",
   "mimetype": "text/x-python",
   "name": "python",
   "nbconvert_exporter": "python",
   "pygments_lexer": "ipython3",
   "version": "3.12.11"
  }
 },
 "nbformat": 4,
 "nbformat_minor": 5
}
